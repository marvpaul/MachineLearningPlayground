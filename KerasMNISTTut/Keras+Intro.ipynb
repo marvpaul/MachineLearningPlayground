{
 "cells": [
  {
   "cell_type": "markdown",
   "metadata": {
    "slideshow": {
     "slide_type": "slide"
    }
   },
   "source": [
    "# Einstieg in Keras"
   ]
  },
  {
   "cell_type": "markdown",
   "metadata": {
    "slideshow": {
     "slide_type": "skip"
    }
   },
   "source": [
    "## Einleitung \n",
    "Dieses Notebook ist so gestaltet, das je ein Teil der Hauptfunktionalitäten von Keras theoretisch erklärt und dann praktisch verdeutlich wird. Zur Verdeutlichung wurde hier ein Teil des MNIST Datensatzes mit handgeschriebenen Zahlen genutzt. Am Ende des Notebooks steht ein trainiertes Keras Model das handgeschriebene Zahlen identifizieren kann.\n",
    "\n",
    "Der erste Codeblock dient lediglich zum Laden und Aufbereiten der Bilddateien. "
   ]
  },
  {
   "cell_type": "code",
   "execution_count": 1,
   "metadata": {
    "slideshow": {
     "slide_type": "skip"
    }
   },
   "outputs": [
    {
     "name": "stderr",
     "output_type": "stream",
     "text": [
      "Using TensorFlow backend.\n"
     ]
    }
   ],
   "source": [
    "import numpy as np\n",
    "import pandas as pd\n",
    "import os\n",
    "import PIL.Image as Image\n",
    "\n",
    "from keras.models import Sequential\n",
    "from keras.models import load_model\n",
    "from keras.layers import Dense, Flatten, MaxPooling2D, Conv2D\n",
    "import matplotlib.pyplot as plt\n",
    "\n",
    "def getData(number_img, csv_path):\n",
    "    '''\n",
    "    Read images and save to array\n",
    "    :param number_img: the number of images to load\n",
    "    :param csv_path: the path for CSV in which the image paths are stored\n",
    "    :return: image_array, classes_array\n",
    "    '''\n",
    "    data = pd.read_csv(csv_path)\n",
    "\n",
    "    image_paths = data['filename'][:number_img]\n",
    "\n",
    "    #Create class vectors with following shape: [0,0,0,0,0,0,0,0,0,1] --> Represents class for number 9\n",
    "    classes = data['label'][:number_img]\n",
    "    classes_vecs = np.array([np.zeros(10) for classes in classes])\n",
    "    for class_nr in range(len(classes)):\n",
    "        classes_vecs[class_nr][classes[class_nr]] = 1\n",
    "\n",
    "    images = []\n",
    "    for i in range(len(image_paths)):\n",
    "        path = os.path.join('data/Images/train', image_paths[i])\n",
    "        img = Image.open(path).convert('RGBA')\n",
    "        arr = np.array(img)\n",
    "        images.append(arr)\n",
    "\n",
    "    images = np.array(images)\n",
    "    return images, classes_vecs\n",
    "\n",
    "images, classes = getData(10000, \"data/train.csv\")\n",
    "trainImages = images[:9940]\n",
    "trainClasses = classes[:9940]\n",
    "testImages = images[9941:]\n",
    "testClasses = classes[9941:]"
   ]
  },
  {
   "cell_type": "markdown",
   "metadata": {
    "slideshow": {
     "slide_type": "slide"
    }
   },
   "source": [
    "## 1 Das Model / Sequential"
   ]
  },
  {
   "cell_type": "markdown",
   "metadata": {
    "slideshow": {
     "slide_type": "skip"
    }
   },
   "source": [
    "In Keras wird das Model des neuronalen Netzes Sequential genannt. Es stellt einen Stack aus Netzschichten dar. \n",
    "Zu einem Model können nach und nach die einzelnen Schichten via add Befehl hinzugefügt oder direkt im Konstruktor übergeben werden. \n",
    "\n",
    "Zum Beispiel: \n",
    "\n",
    "> Sequential([\n",
    "\n",
    ">         Dense(64, input_dim=20, activation='relu'),\n",
    ">         Dense(10, activation='softmax')\n",
    "        \n",
    ">     ])\n",
    "    \n",
    "\n",
    "> model = Sequential()\n",
    "\n",
    ">model.add(Dense(64, input_dim=20, activation='relu'))\n",
    "\n",
    ">model.add(Dense(10, activation='softmax'))"
   ]
  },
  {
   "cell_type": "markdown",
   "metadata": {
    "slideshow": {
     "slide_type": "skip"
    }
   },
   "source": [
    "## 2 Layers\n",
    "Übersicht hier: https://keras.io/layers/core/ mit allen Parametern. Hier werden nur einige Schichten kurz genannt und einige Parameter aufgelistet, die zur Erstellung des Beispieles notwendig sind.\n",
    "\n",
    "### 2.1 Dense\n",
    "Fully-Connected-Layer. \n",
    "\n",
    "> keras.layers.Dense(units, activation=None, use_bias=True, kernel_initializer='glorot_uniform', bias_initializer='zeros', kernel_regularizer=None, bias_regularizer=None, activity_regularizer=None, kernel_constraint=None, bias_constraint=None)\n",
    "\n",
    "> -->Dense(120, activation='relu')\n",
    "\n",
    "### 2.2 Flatten\n",
    "Übergang von z.B. Convolutional Layer 2D zu Fully-Connected-Layer. \n",
    "\n",
    "Beispiel: \n",
    "\n",
    "> model.output_shape == (None, 64, 32, 32)\n",
    "\n",
    "> model.add(Flatten())\n",
    "\n",
    "> model.output_shape == (None, 65536)\n",
    "\n",
    "### 2.3 Pooling\n",
    "Pooling / Downsampling. \n",
    "\n",
    "> keras.layers.MaxPooling1D(pool_size=2, strides=None, padding='valid')\n",
    " \n",
    "> -->MaxPooling2D(pool_size=(2, 2))\n",
    "\n",
    "### 2.4 Convolutional\n",
    "> keras.layers.Conv2D(filters, kernel_size, strides=(1, 1), padding='valid', data_format=None, dilation_rate=(1, 1), activation=None, use_bias=True, kernel_initializer='glorot_uniform', bias_initializer='zeros', kernel_regularizer=None, bias_regularizer=None, activity_regularizer=None, kernel_constraint=None, bias_constraint=None)\n",
    "\n",
    "> -->Conv2D(6, (9, 9), activation=\"relu\", input_shape=images[0].shape, kernel_initializer=Initialisierungsmethode)"
   ]
  },
  {
   "cell_type": "markdown",
   "metadata": {
    "slideshow": {
     "slide_type": "skip"
    }
   },
   "source": [
    "Mit diesem Wissen können wir recht einfach ein Keras-Model für ein Convolutional Network erstellen: "
   ]
  },
  {
   "cell_type": "code",
   "execution_count": 2,
   "metadata": {
    "collapsed": true,
    "slideshow": {
     "slide_type": "subslide"
    }
   },
   "outputs": [],
   "source": [
    "modelK = Sequential([\n",
    "        Conv2D(6, (9, 9), activation=\"relu\", input_shape=images[0].shape, kernel_initializer='random_uniform'),\n",
    "        MaxPooling2D(pool_size=(2, 2)),\n",
    "        Conv2D(16, (9, 9), activation=\"relu\", input_shape=images[0].shape, kernel_initializer='random_uniform'),\n",
    "        MaxPooling2D(pool_size=(2, 2)),\n",
    "        Flatten(),\n",
    "        Dense(120, activation='relu', kernel_initializer='random_uniform'),\n",
    "        Dense(100, activation='relu', kernel_initializer='random_uniform'),\n",
    "        Dense(10, activation='softmax', kernel_initializer='random_uniform')\n",
    "    ])\n"
   ]
  },
  {
   "cell_type": "markdown",
   "metadata": {
    "slideshow": {
     "slide_type": "slide"
    }
   },
   "source": [
    "## Kompilierung des Models"
   ]
  },
  {
   "cell_type": "markdown",
   "metadata": {
    "slideshow": {
     "slide_type": "skip"
    }
   },
   "source": [
    "Bevor das Model trainiert werden kann, muss es durch den Befehl compile kompiliert / konfiguriert werden. Hierbei müssen einige wichtige Informationen mit übergeben werden.\n",
    "Der compile Befehl ist wie folgt aufgebaut: \n",
    "\n",
    "> model.compile(loss=Loss-Function,\n",
    ">                  optimizer=Optimierer,\n",
    ">                  metrics=Metric)\n",
    "\n",
    "### 3.1 Loss\n",
    "Hier alle in Keras verfügbaren Loss-Funktionen: \n",
    "https://keras.io/losses/\n",
    "\n",
    "### 3.2 Optimierer\n",
    "Optimierungsfunktionen, z.B. Stochastic Gradient Descent --> SGD oder adam\n",
    "\n",
    "Alle verfügbaren Optimierungsfunktionen: \n",
    "https://keras.io/optimizers/\n",
    "\n",
    "### 3.3 Metrics\n",
    "Misst die Leistung des Netzes, z.B. accuracy\n",
    "\n",
    "Alle Verfügbaren Metriken: \n",
    "https://keras.io/metrics/"
   ]
  },
  {
   "cell_type": "markdown",
   "metadata": {
    "slideshow": {
     "slide_type": "skip"
    }
   },
   "source": [
    "Na dann kompolieren wir mal unser Model: "
   ]
  },
  {
   "cell_type": "code",
   "execution_count": 3,
   "metadata": {
    "collapsed": true,
    "slideshow": {
     "slide_type": "subslide"
    }
   },
   "outputs": [],
   "source": [
    "modelK.compile(loss='categorical_crossentropy',\n",
    "                  optimizer='adam',\n",
    "                  metrics=['accuracy'])"
   ]
  },
  {
   "cell_type": "markdown",
   "metadata": {
    "slideshow": {
     "slide_type": "slide"
    }
   },
   "source": [
    "## Trainieren des Models"
   ]
  },
  {
   "cell_type": "markdown",
   "metadata": {
    "slideshow": {
     "slide_type": "skip"
    }
   },
   "source": [
    "Nach der Kompilierung kann das Model angepasst / trainiert werden, dafür gibt es den fit Befehl. \n",
    "\n",
    "> model.fit(trainings_input, trainings_output, epochs=Trainingsdurchlaeufe, batch_size=Batchgroesse)"
   ]
  },
  {
   "cell_type": "markdown",
   "metadata": {
    "slideshow": {
     "slide_type": "skip"
    }
   },
   "source": [
    "Das Trainieren unseres aktuellen Models mit vorher aufbereiteten Daten ist also ein Eizeiler: "
   ]
  },
  {
   "cell_type": "code",
   "execution_count": 4,
   "metadata": {
    "slideshow": {
     "slide_type": "subslide"
    }
   },
   "outputs": [
    {
     "name": "stdout",
     "output_type": "stream",
     "text": [
      "Epoch 1/5\n",
      "9940/9940 [==============================] - 11s - loss: 0.7989 - acc: 0.7403    \n",
      "Epoch 2/5\n",
      "9940/9940 [==============================] - 11s - loss: 0.2689 - acc: 0.9156    \n",
      "Epoch 3/5\n",
      "9940/9940 [==============================] - 10s - loss: 0.1873 - acc: 0.9416    \n",
      "Epoch 4/5\n",
      "9940/9940 [==============================] - 10s - loss: 0.1383 - acc: 0.9551    - ETA: 1s - loss: 0\n",
      "Epoch 5/5\n",
      "9940/9940 [==============================] - ETA: 0s - loss: 0.1197 - acc: 0.959 - 11s - loss: 0.1199 - acc: 0.9596    \n"
     ]
    },
    {
     "data": {
      "text/plain": [
       "<keras.callbacks.History at 0x1097ece10>"
      ]
     },
     "execution_count": 4,
     "metadata": {},
     "output_type": "execute_result"
    }
   ],
   "source": [
    "modelK.fit(trainImages, trainClasses, epochs=5, batch_size=100)"
   ]
  },
  {
   "cell_type": "markdown",
   "metadata": {
    "slideshow": {
     "slide_type": "slide"
    }
   },
   "source": [
    "## Evaluieren / Vorhersagen"
   ]
  },
  {
   "cell_type": "markdown",
   "metadata": {
    "slideshow": {
     "slide_type": "skip"
    }
   },
   "source": [
    "Letzendlich wollen wir natürlich unser Model testen und Vorhersagen machen. Zum Überprüfen des Models gibt es den evaluate Befehl. \n",
    "> model.evaluate(input_daten, output_daten, batch_size=batchgroesse )"
   ]
  },
  {
   "cell_type": "code",
   "execution_count": 5,
   "metadata": {
    "slideshow": {
     "slide_type": "subslide"
    }
   },
   "outputs": [
    {
     "name": "stdout",
     "output_type": "stream",
     "text": [
      "59/59 [==============================] - 0s\n",
      "Loss:  0.288096547127\n",
      "Accuracy:  0.898305058479\n"
     ]
    }
   ],
   "source": [
    "evaluation = modelK.evaluate(np.array(testImages), testClasses, batch_size=100)\n",
    "print(\"Loss: \", evaluation[0])\n",
    "print(\"Accuracy: \", evaluation[1])"
   ]
  },
  {
   "cell_type": "markdown",
   "metadata": {
    "slideshow": {
     "slide_type": "skip"
    }
   },
   "source": [
    "Vorhersagen treffen geht in Keras ganz einfach mit dem Befehl predict\n",
    "> model.predict(input_daten)"
   ]
  },
  {
   "cell_type": "markdown",
   "metadata": {
    "slideshow": {
     "slide_type": "skip"
    }
   },
   "source": [
    "Schon wieder ein Einzeiler: "
   ]
  },
  {
   "cell_type": "code",
   "execution_count": 6,
   "metadata": {
    "collapsed": true,
    "slideshow": {
     "slide_type": "subslide"
    }
   },
   "outputs": [],
   "source": [
    "predictions = modelK.predict(np.array(testImages))"
   ]
  },
  {
   "cell_type": "markdown",
   "metadata": {
    "slideshow": {
     "slide_type": "slide"
    }
   },
   "source": [
    "## Visualisieren"
   ]
  },
  {
   "cell_type": "markdown",
   "metadata": {
    "slideshow": {
     "slide_type": "skip"
    }
   },
   "source": [
    "Abschließend visualisieren wir unsere Vorhersagen."
   ]
  },
  {
   "cell_type": "code",
   "execution_count": 7,
   "metadata": {
    "collapsed": true,
    "slideshow": {
     "slide_type": "skip"
    }
   },
   "outputs": [],
   "source": [
    "def plotSampleImages(images, labels):\n",
    "    '''\n",
    "    Plot all predicted numbers\n",
    "    :param images: the images to plot\n",
    "    :param labels: the labels which were predicted\n",
    "    :return: nothing :O\n",
    "    '''\n",
    "    image_data_sorted = [[],[],[],[],[],[],[],[],[],[]]\n",
    "    for i in range(len(labels)):\n",
    "        image_data_sorted[labels[i]].append(images[i])\n",
    "    fig, axes = plt.subplots(nrows=15, ncols=10)\n",
    "    np.vectorize(lambda axes:axes.axis('off'))(axes)\n",
    "    for image_class in range(10):\n",
    "        axes[0, image_class].set_title(image_class)\n",
    "        for image in range(len(image_data_sorted[image_class])):\n",
    "            axes[image, image_class].axis('off')\n",
    "            axes[image, image_class].imshow((image_data_sorted[image_class][image])/255)\n",
    "\n",
    "    plt.show()"
   ]
  },
  {
   "cell_type": "code",
   "execution_count": 8,
   "metadata": {
    "slideshow": {
     "slide_type": "subslide"
    }
   },
   "outputs": [
    {
     "data": {
      "image/png": "[encoded data removed]",
      "text/plain": [
       "<matplotlib.figure.Figure at 0x10893bc50>"
      ]
     },
     "metadata": {},
     "output_type": "display_data"
    }
   ],
   "source": [
    "numbers = []\n",
    "for pred in predictions:\n",
    "    numbers.append(np.argmax(pred))\n",
    "\n",
    "plotSampleImages(testImages, numbers)"
   ]
  },
  {
   "cell_type": "code",
   "execution_count": null,
   "metadata": {
    "collapsed": true
   },
   "outputs": [],
   "source": []
  }
 ],
 "metadata": {
  "celltoolbar": "Slideshow",
  "kernelspec": {
   "display_name": "Python 3",
   "language": "python",
   "name": "python3"
  },
  "language_info": {
   "codemirror_mode": {
    "name": "ipython",
    "version": 3
   },
   "file_extension": ".py",
   "mimetype": "text/x-python",
   "name": "python",
   "nbconvert_exporter": "python",
   "pygments_lexer": "ipython3",
   "version": "3.6.2"
  }
 },
 "nbformat": 4,
 "nbformat_minor": 2
}
