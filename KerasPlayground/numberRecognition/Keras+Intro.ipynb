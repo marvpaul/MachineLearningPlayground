{
 "cells": [
  {
   "cell_type": "markdown",
   "metadata": {},
   "source": [
    "# Einstieg in Keras"
   ]
  },
  {
   "cell_type": "code",
   "execution_count": 1,
   "metadata": {},
   "outputs": [
    {
     "ename": "ModuleNotFoundError",
     "evalue": "No module named 'keras'",
     "output_type": "error",
     "traceback": [
      "\u001b[0;31m---------------------------------------------------------------------------\u001b[0m",
      "\u001b[0;31mModuleNotFoundError\u001b[0m                       Traceback (most recent call last)",
      "\u001b[0;32m<ipython-input-1-d28a1ee6303d>\u001b[0m in \u001b[0;36m<module>\u001b[0;34m()\u001b[0m\n\u001b[1;32m      4\u001b[0m \u001b[0;32mimport\u001b[0m \u001b[0mPIL\u001b[0m\u001b[0;34m.\u001b[0m\u001b[0mImage\u001b[0m \u001b[0;32mas\u001b[0m \u001b[0mImage\u001b[0m\u001b[0;34m\u001b[0m\u001b[0m\n\u001b[1;32m      5\u001b[0m \u001b[0;34m\u001b[0m\u001b[0m\n\u001b[0;32m----> 6\u001b[0;31m \u001b[0;32mfrom\u001b[0m \u001b[0mkeras\u001b[0m\u001b[0;34m.\u001b[0m\u001b[0mmodels\u001b[0m \u001b[0;32mimport\u001b[0m \u001b[0mSequential\u001b[0m\u001b[0;34m\u001b[0m\u001b[0m\n\u001b[0m\u001b[1;32m      7\u001b[0m \u001b[0;32mfrom\u001b[0m \u001b[0mkeras\u001b[0m\u001b[0;34m.\u001b[0m\u001b[0mmodels\u001b[0m \u001b[0;32mimport\u001b[0m \u001b[0mload_model\u001b[0m\u001b[0;34m\u001b[0m\u001b[0m\n\u001b[1;32m      8\u001b[0m \u001b[0;32mfrom\u001b[0m \u001b[0mkeras\u001b[0m\u001b[0;34m.\u001b[0m\u001b[0mlayers\u001b[0m \u001b[0;32mimport\u001b[0m \u001b[0mDense\u001b[0m\u001b[0;34m,\u001b[0m \u001b[0mFlatten\u001b[0m\u001b[0;34m,\u001b[0m \u001b[0mMaxPooling2D\u001b[0m\u001b[0;34m,\u001b[0m \u001b[0mConv2D\u001b[0m\u001b[0;34m\u001b[0m\u001b[0m\n",
      "\u001b[0;31mModuleNotFoundError\u001b[0m: No module named 'keras'"
     ]
    }
   ],
   "source": [
    "import numpy as np\n",
    "import pandas as pd\n",
    "import os\n",
    "import PIL.Image as Image\n",
    "\n",
    "from keras.models import Sequential\n",
    "from keras.models import load_model\n",
    "from keras.layers import Dense, Flatten, MaxPooling2D, Conv2D\n",
    "import matplotlib.pyplot as plt\n",
    "\n",
    "def getData(number_img, csv_path):\n",
    "    '''\n",
    "    Read images, and save to array\n",
    "    :param number_img: the number of images to load\n",
    "    :param csv_path: the path for CSV in which the image paths are stored\n",
    "    :return: image_array, classes_array\n",
    "    '''\n",
    "    data = pd.read_csv(csv_path)\n",
    "\n",
    "    image_paths = data['filename'][:number_img]\n",
    "\n",
    "    #Create class vectors with following shape: [0,0,0,0,0,0,0,0,0,1] --> Represents class for number 9\n",
    "    classes = data['label'][:number_img]\n",
    "    classes_vecs = np.array([np.zeros(10) for classes in classes])\n",
    "    for class_nr in range(len(classes)):\n",
    "        classes_vecs[class_nr][classes[class_nr]] = 1\n",
    "\n",
    "    images = []\n",
    "    for i in range(len(image_paths)):\n",
    "        path = os.path.join('data/Images/train', image_paths[i])\n",
    "        img = Image.open(path).convert('RGBA')\n",
    "        arr = np.array(img)\n",
    "        images.append(arr)\n",
    "\n",
    "    images = np.array(images)\n",
    "    return images, classes_vecs\n",
    "\n",
    "images, classes = getData(10000, \"data/train.csv\")"
   ]
  },
  {
   "cell_type": "markdown",
   "metadata": {},
   "source": [
    "## 1 Das Model / Sequential\n",
    "In Keras wird das Model des neuronalen Netzes Sequential genannt. Es stellt einen Stack aus Netzschichten dar. \n",
    "Zu einem Model können nach und nach die einzelnen Schichten via add Befehl hinzugefügt oder direkt im Konstruktor übergeben werden. \n",
    "\n",
    "Zum Beispiel: \n",
    "\n",
    "> Sequential([\n",
    "\n",
    ">         Dense(64, input_dim=20, activation='relu'),\n",
    ">         Dense(10, activation='softmax')\n",
    "        \n",
    ">     ])\n",
    "    \n",
    "\n",
    "> model = Sequential()\n",
    "model.add(Dense(64, input_dim=20, activation='relu'))\n",
    "model.add(Dense(10, activation='softmax'))"
   ]
  },
  {
   "cell_type": "markdown",
   "metadata": {},
   "source": [
    "## 2 Layers\n",
    "Übersicht hier: https://keras.io/layers/core/\n",
    "\n",
    "### 2.1 Dense\n",
    "Fully-Connected-Layer. \n",
    "\n",
    "> Dense(Anz_einheiten, activation=Aktivierungsfunktion)\n",
    "\n",
    "> -->Dense(120, activation='relu')\n",
    "\n",
    "### 2.2 Flatten\n",
    "Übergang von z.B. Convolutional Layer zu Fully-Connected-Layer. \n",
    "\n",
    "Beispiel: \n",
    "\n",
    "> model.output_shape == (None, 64, 32, 32)\n",
    "\n",
    "> model.add(Flatten())\n",
    "\n",
    "> model.output_shape == (None, 65536)\n",
    "\n",
    "### 2.3 Pooling\n",
    "Pooling / Downsampling. \n",
    "\n",
    "> MaxPooling2D(pool_size=(pool_hoehe, pool_breite))\n",
    " \n",
    "> -->MaxPooling2D(pool_size=(2, 2))\n",
    "\n",
    "### 2.4 Convolutional\n",
    "> Conv2D(Filter_anz, (Filter_hoehe, Filter_breite), activation=Aktivierungsfunktion, input_shape=Input_dimension)\n",
    "\n",
    "> -->Conv2D(6, (9, 9), activation=\"relu\", input_shape=images[0].shape)"
   ]
  },
  {
   "cell_type": "markdown",
   "metadata": {},
   "source": [
    "Mit diesem Wissen können wir recht einfach ein Keras-Model für ein Convolutional Network erstellen: "
   ]
  },
  {
   "cell_type": "code",
   "execution_count": null,
   "metadata": {
    "collapsed": true
   },
   "outputs": [],
   "source": [
    "modelK = Sequential([\n",
    "        Conv2D(6, (9, 9), activation=\"relu\", input_shape=images[0].shape),\n",
    "        MaxPooling2D(pool_size=(2, 2)),\n",
    "        Conv2D(16, (9, 9), activation=\"relu\", input_shape=images[0].shape),\n",
    "        MaxPooling2D(pool_size=(2, 2)),\n",
    "        Flatten(),\n",
    "        Dense(120, activation='relu'),\n",
    "        Dense(100, activation='relu'),\n",
    "        Dense(10, activation='softmax')\n",
    "    ])\n"
   ]
  },
  {
   "cell_type": "markdown",
   "metadata": {},
   "source": [
    "## 3 Kompilierung des Models\n",
    "Bevor das Model trainiert werden kann, muss es durch den Befehl compile kompiliert / konfiguriert werden. \n",
    "Der compile Befehl ist wie folgt aufgebaut: \n",
    "\n",
    "> model.compile(loss=Loss-Function,\n",
    ">                  optimizer=Optimierer,\n",
    ">                  metrics=Metric)\n",
    "\n",
    "### 3.1 Loss\n",
    "Hier alle in Keras verfügbaren Loss-Funktionen: \n",
    "https://keras.io/losses/\n",
    "\n",
    "### 3.2 Optimierer\n",
    "Optimierungsfunktionen, z.B. Stochastic Gradient Descent --> SGD\n",
    "\n",
    "Alle verfügbaren Optimierungsfunktionen: \n",
    "https://keras.io/optimizers/\n",
    "\n",
    "### 3.3 Metrics\n",
    "Misst die Leistung des Netzes, z.B. accuracy\n",
    "\n",
    "Alle Verfügbaren Metriken: \n",
    "https://keras.io/metrics/"
   ]
  },
  {
   "cell_type": "markdown",
   "metadata": {},
   "source": [
    "Na dann kompolieren wir mal unser Model: "
   ]
  },
  {
   "cell_type": "code",
   "execution_count": null,
   "metadata": {
    "collapsed": true
   },
   "outputs": [],
   "source": [
    "modelK.compile(loss='categorical_crossentropy',\n",
    "                  optimizer='adam',\n",
    "                  metrics=['accuracy'])"
   ]
  },
  {
   "cell_type": "markdown",
   "metadata": {},
   "source": [
    "## Trainieren des Models\n",
    "Nach der Kompilierung kann das Model angepasst / trainiert werden, dafür gibt es den fit Befehl. \n",
    "\n",
    "> model.fit(trainings_input, trainings_output, epochs=Trainingsdurchlaeufe, batch_size=Batchgroesse)"
   ]
  },
  {
   "cell_type": "markdown",
   "metadata": {},
   "source": [
    "Das Trainieren unseres aktuellen Models mit vorher aufbereiteten Daten ist also ein Eizeiler: "
   ]
  },
  {
   "cell_type": "code",
   "execution_count": null,
   "metadata": {
    "collapsed": true
   },
   "outputs": [],
   "source": [
    "model.fit(images, classes, epochs=20, batch_size=100)"
   ]
  },
  {
   "cell_type": "markdown",
   "metadata": {},
   "source": [
    "## Vorhersagen\n",
    "Letzendlich wollen wir natürlich unser Model testen und Vorhersagen machen. Dies geht in Keras ganz einfach mit dem Befehl predict\n",
    "> model.predict(input_daten)"
   ]
  },
  {
   "cell_type": "markdown",
   "metadata": {},
   "source": [
    "Schon wieder ein Einzeiler: "
   ]
  },
  {
   "cell_type": "code",
   "execution_count": null,
   "metadata": {
    "collapsed": true
   },
   "outputs": [],
   "source": [
    "predictions = model.predict(np.array(test_images))"
   ]
  }
 ],
 "metadata": {
  "kernelspec": {
   "display_name": "Python 3",
   "language": "python",
   "name": "python3"
  },
  "language_info": {
   "codemirror_mode": {
    "name": "ipython",
    "version": 3
   },
   "file_extension": ".py",
   "mimetype": "text/x-python",
   "name": "python",
   "nbconvert_exporter": "python",
   "pygments_lexer": "ipython3",
   "version": "3.6.2"
  }
 },
 "nbformat": 4,
 "nbformat_minor": 2
}
